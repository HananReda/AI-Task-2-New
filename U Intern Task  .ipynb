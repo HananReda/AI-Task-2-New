{
 "cells": [
  {
   "cell_type": "markdown",
   "metadata": {},
   "source": [
    "# Part 1 ( Python ):\n"
   ]
  },
  {
   "cell_type": "markdown",
   "metadata": {},
   "source": [
    "### Q1: \n",
    "    Write a program that computes the value of a+aa+aaa+aaaa with a given digit as the value of a. Suppose the following input is supplied to the program: 9 Then, the output should be: 11106"
   ]
  },
  {
   "cell_type": "code",
   "execution_count": null,
   "metadata": {},
   "outputs": [],
   "source": [
    "value = input(\"Enter your value  : \")        # Enter Your Value \n",
    "\n",
    "n1 = value * 1\n",
    "n2 = value * 2\n",
    "n3 = value * 3\n",
    "n4 = value * 4\n",
    "\n",
    "total = int(n1) + int(n2) + int(n3) + int(n4) \n",
    "print(total)                                 #print the result\n"
   ]
  },
  {
   "cell_type": "markdown",
   "metadata": {},
   "source": [
    "### Q2:\n",
    "    Please write a program to print the running time of execution of \"1+1\" for 100 times.\n"
   ]
  },
  {
   "cell_type": "code",
   "execution_count": null,
   "metadata": {},
   "outputs": [],
   "source": [
    "from timeit import Timer        # we Use timeit() function to measure the running time.\n",
    "t = Timer(\"for i in range(100):1+1\")\n",
    "print (t.timeit())\n"
   ]
  },
  {
   "cell_type": "markdown",
   "metadata": {},
   "source": [
    "### Q3:\n",
    "    You are required to write a program to sort the (name, age, height) tuples by ascending order where name is string, age and height are numbers. The tuples are input by console. The sort criteria is: 1: Sort based on name; 2: Then sort based on age; 3: Then sort by score. The priority is that name > age > score. If the following tuples are given as input to the program: Tom,19,80 John,20,90 Jony,17,91 Jony,17,93 Json,21,85 Then, the output of the program should be: [('John', '20', '90'), ('Jony', '17', '91'), ('Jony', '17', '93'), ('Json', '21', '85'), ('Tom', '19', '80')]"
   ]
  },
  {
   "cell_type": "code",
   "execution_count": 62,
   "metadata": {},
   "outputs": [
    {
     "name": "stdout",
     "output_type": "stream",
     "text": [
      "[['John', '20', '90'], ['Jony', '17', '91'], ['Jony', '17', '93'], ['Json', '21', '85'], ['Tom', '19', '80']]\n"
     ]
    }
   ],
   "source": [
    "from operator import itemgetter, attrgetter\n",
    "\n",
    "a = []                                                # initialize\n",
    "\n",
    "# create the table (name, age, height)\n",
    "a.append([\"Json\",'21' , '85'])\n",
    "a.append([\"John\", '20' , '90'])\n",
    "a.append([\"Tom\", '19', '80'])\n",
    "a.append([\"Jony\", '17', '91']) \n",
    "a.append([\"Jony\", '17', '93'])   \n",
    "\n",
    "# sort the table by name then age then score and print it\n",
    "\n",
    "print( sorted(a, key=itemgetter(0,1,2)))\n"
   ]
  },
  {
   "cell_type": "markdown",
   "metadata": {},
   "source": [
    "### Q4:\n",
    "    Write a Python program to count the number of characters (character frequency) in a string.\n",
    "\n",
    "Examble: ('google.com') => {'g': 2, 'o': 3, 'l': 1, 'e': 1, '.': 1, 'c': 1, 'm': 1}"
   ]
  },
  {
   "cell_type": "code",
   "execution_count": 1,
   "metadata": {},
   "outputs": [
    {
     "name": "stdout",
     "output_type": "stream",
     "text": [
      "{'g': 2, 'o': 3, 'l': 1, 'e': 1, '.': 1, 'c': 1, 'm': 1}\n"
     ]
    }
   ],
   "source": [
    "def char_frequency(str1):\n",
    "    dict = {}\n",
    "    for n in str1:\n",
    "        keys = dict.keys()\n",
    "        if n in keys:\n",
    "            dict[n] += 1\n",
    "        else:\n",
    "            dict[n] = 1\n",
    "    return dict\n",
    "print(char_frequency('google.com'))"
   ]
  },
  {
   "cell_type": "markdown",
   "metadata": {},
   "source": [
    "\n",
    "### Q5:\n",
    "    Write a Python program to add 'ing' at the end of a given string (length should be at least 3). If the given string already ends with 'ing' then add 'ly' instead. If the string length of the given string is less than 3, leave it unchanged.\n",
    "Examble \n",
    "\n",
    "        => ab => ab\n",
    "\n",
    "        => abc => abcing \n",
    "        \n",
    "        => string => stringly"
   ]
  },
  {
   "cell_type": "code",
   "execution_count": null,
   "metadata": {},
   "outputs": [],
   "source": [
    "def add_string(str1):\n",
    "  length = len(str1)       #length of string \n",
    "\n",
    "  if length > 2:                \n",
    "    if str1[-3:] == 'ing':\n",
    "      str1 += 'ly'\n",
    "    else:\n",
    "      str1 += 'ing'\n",
    "\n",
    "  return str1\n",
    "print(add_string('ab'))\n",
    "print(add_string('abc'))\n",
    "print(add_string('string'))"
   ]
  },
  {
   "cell_type": "markdown",
   "metadata": {},
   "source": [
    "### Q6:\n",
    "    Write a Python program to add 5 seconds with the current time.\n",
    "\n",
    "Examble: Current time=> 13:09:38.491219 After 5 seconds => 13:09:43.491219"
   ]
  },
  {
   "cell_type": "code",
   "execution_count": 1,
   "metadata": {},
   "outputs": [
    {
     "name": "stdout",
     "output_type": "stream",
     "text": [
      "00:09:14.602316\n",
      "00:09:19.602316\n"
     ]
    }
   ],
   "source": [
    "import datetime\n",
    "x= datetime.datetime.now()\n",
    "y = x + datetime.timedelta(0,5)\n",
    "print(x.time())\n",
    "print(y.time())"
   ]
  },
  {
   "cell_type": "markdown",
   "metadata": {},
   "source": [
    "### Q7:\n",
    "\n",
    "Please solve this problem and write your code here?\n",
    "\n",
    "https://www.hackerrank.com/challenges/np-polynomials/problem"
   ]
  },
  {
   "cell_type": "code",
   "execution_count": null,
   "metadata": {},
   "outputs": [],
   "source": [
    "\n",
    "import numpy as np\n",
    "\n",
    "P=list(map(float,input().split()))\n",
    "x=float(input())\n",
    "\n",
    "print(np.polyval(P,x))"
   ]
  },
  {
   "cell_type": "markdown",
   "metadata": {},
   "source": [
    "### Q8:\n",
    "\n",
    "Please solve this problem and write your code here?\n",
    "\n",
    "https://www.hackerrank.com/challenges/np-linear-algebra/problem"
   ]
  },
  {
   "cell_type": "code",
   "execution_count": null,
   "metadata": {},
   "outputs": [],
   "source": [
    "import numpy\n",
    "\n",
    "x=input()\n",
    "n=int(x)\n",
    "a=[]\n",
    "for i in range(n):\n",
    "    s= input()\n",
    "    l=list(map(float,s.split()))\n",
    "    a.append(l)\n",
    "\n",
    "print(numpy.array(a))\n",
    "print(a)\n",
    "print(numpy.linalg.det(a))"
   ]
  },
  {
   "cell_type": "markdown",
   "metadata": {},
   "source": [
    "# Part2 (GUI):\n",
    "    Please create simple calculator like this image ( with the same colors and architecture ) "
   ]
  },
  {
   "cell_type": "markdown",
   "metadata": {},
   "source": [
    "![caption](files/image.jpg)"
   ]
  },
  {
   "cell_type": "code",
   "execution_count": null,
   "metadata": {},
   "outputs": [],
   "source": [
    "# import everything from tkinter module\n",
    "from tkinter import *\n",
    "expression = \"\"\n",
    "# Function to update expression\n",
    "def press(num):\n",
    "  global expression\n",
    "  # concatenation of string\n",
    "  expression = expression + str(num)\n",
    "  equation.set(expression)\n",
    "# Function to evaluate the final expression\n",
    "def equalpress():\n",
    "#Try block for exceptions\n",
    "  try:\n",
    "    global expression\n",
    "    total = str(eval(expression))\n",
    "    equation.set(total)\n",
    "    expression = \"\"\n",
    "#except block\n",
    "  except:\n",
    "    equation.set(\" error \")\n",
    "    expression = \"\"\n",
    "# Function to clear the contents\n",
    "def clear():\n",
    "  global expression\n",
    "  expression = \"\"\n",
    "  equation.set(\"\")\n",
    "if __name__ == \"__main__\":\n",
    "  # create a GUI window\n",
    "  gui = Tk()\n",
    "  # set the background colour\n",
    "  gui.configure(background=\"green\")\n",
    "  # set the title\n",
    "  gui.title(\" Calculator\")\n",
    "  gui.geometry(\"265x150\")\n",
    "  equation = StringVar()\n",
    "  expression_field = Entry(gui, textvariable=equation)\n",
    "  expression_field.grid(columnspan=5, ipadx=70)\n",
    "  equation.set('Start Calculating...')\n",
    "  # create Buttons\n",
    "  button1 = Button(gui, text=' 7 ', fg='black', bg='white',\n",
    "          command=lambda: press(7), height=1, width=7)\n",
    "  button1.grid(row=2, column=0)\n",
    "      \n",
    "  button2 = Button(gui, text=' 8 ', fg='black', bg='white',\n",
    "          command=lambda: press(8), height=1, width=7)\n",
    "  button2.grid(row=2, column=1)\n",
    "  button3 = Button(gui, text=' 9 ', fg='black', bg='white',\n",
    "          command=lambda: press(9), height=1, width=7)\n",
    "  button3.grid(row=2, column=2)\n",
    "  button4 = Button(gui, text=' 4 ', fg='black', bg='white',\n",
    "          command=lambda: press(4), height=1, width=7)\n",
    "  button4.grid(row=3, column=0)\n",
    "  button5 = Button(gui, text=' 5 ', fg='black', bg='white',\n",
    "          command=lambda: press(5), height=1, width=7)\n",
    "  button5.grid(row=3, column=1)\n",
    "  button6 = Button(gui, text=' 6 ', fg='black', bg='white',\n",
    "          command=lambda: press(6), height=1, width=7)\n",
    "  button6.grid(row=3, column=2)\n",
    "  button7 = Button(gui, text=' 1 ', fg='black', bg='white',\n",
    "          command=lambda: press(1), height=1, width=7)\n",
    "  button7.grid(row=4, column=0)\n",
    "  button8 = Button(gui, text=' 2 ', fg='black', bg='white',\n",
    "          command=lambda: press(2), height=1, width=7)\n",
    "  button8.grid(row=4, column=1)\n",
    "  button9 = Button(gui, text=' 3 ', fg='black', bg='white',\n",
    "          command=lambda: press(3), height=1, width=7)\n",
    "  button9.grid(row=4, column=2)\n",
    "  button0 = Button(gui, text=' 0 ', fg='black', bg='white',\n",
    "          command=lambda: press(0), height=1, width=7)\n",
    "  button0.grid(row=5, column=0)\n",
    "  plus = Button(gui, text=' - ', fg='white', bg='black',\n",
    "        command=lambda: press(\"-\"), height=1, width=7)\n",
    "  plus.grid(row=5, column='1')\n",
    "  minus = Button(gui, text=' + ', fg='white', bg='orange',\n",
    "        command=lambda: press(\"+\"), height=1, width=7)\n",
    "  minus.grid(row=3, column=3)\n",
    "  multiply = Button(gui, text=' - ', fg='white', bg='orange',\n",
    "          command=lambda: press(\"-\"), height=1, width=7)\n",
    "  multiply.grid(row=4, column=3)\n",
    "  divide = Button(gui, text=' / ', fg='white', bg='orange',\n",
    "          command=lambda: press(\"/\"), height=1, width=7)\n",
    "  divide.grid(row=5, column=3)\n",
    "  equal = Button(gui, text=' = ', fg='white', bg='green',\n",
    "        command=equalpress, height=1, width=7)\n",
    "  equal.grid(row=5, column=2)\n",
    "    \n",
    "    \n",
    "\n",
    "  clear = Button(gui, text='C', fg='white', bg='green',\n",
    "        command=clear, height=1, width=7)\n",
    "  clear.grid(row=2, column='3')\n",
    "  #RUN\n",
    "  gui.mainloop()"
   ]
  },
  {
   "cell_type": "code",
   "execution_count": null,
   "metadata": {},
   "outputs": [],
   "source": [
    "# import everything from tkinter module\n",
    "from tkinter import *\n",
    "expression = \"\"\n",
    "# Function to update expression\n",
    "def press(num):\n",
    "  global expression\n",
    "  # concatenation of string\n",
    "  expression = expression + str(num)\n",
    "  equation.set(expression)\n",
    "# Function to evaluate the final expression\n",
    "def equalpress():\n",
    "#Try block for exceptions\n",
    "  try:\n",
    "    global expression\n",
    "    total = str(eval(expression))\n",
    "    equation.set(total)\n",
    "    expression = \"\"\n",
    "#except block\n",
    "  except:\n",
    "    equation.set(\" error \")\n",
    "    expression = \"\"\n",
    "# Function to clear the contents\n",
    "def clear():\n",
    "  global expression\n",
    "  expression = \"\"\n",
    "  equation.set(\"\")\n",
    "if __name__ == \"__main__\":\n",
    "  # create a GUI window\n",
    "  gui = Tk()\n",
    "  # set the background colour\n",
    "  gui.configure(background=\"green\")\n",
    "  # set the title\n",
    "  gui.title(\" Calculator\")\n",
    "  gui.geometry(\"265x150\")\n",
    "  equation = StringVar()\n",
    "  expression_field = Entry(gui, textvariable=equation)\n",
    "  expression_field.grid(columnspan=5, ipadx=70)\n",
    "  equation.set('Start Calculating...')\n",
    "  # create Buttons\n",
    "  button1 = Button(gui, text=' 7 ', fg='black', bg='white',\n",
    "          command=lambda: press(7), height=1, width=7)\n",
    "  button1.grid(row=2, column=0)\n",
    "      \n",
    "  button2 = Button(gui, text=' 8 ', fg='black', bg='white',\n",
    "          command=lambda: press(8), height=1, width=7)\n",
    "  button2.grid(row=2, column=1)\n",
    "  button3 = Button(gui, text=' 9 ', fg='black', bg='white',\n",
    "          command=lambda: press(9), height=1, width=7)\n",
    "  button3.grid(row=2, column=2)\n",
    "  button4 = Button(gui, text=' 4 ', fg='black', bg='white',\n",
    "          command=lambda: press(4), height=1, width=7)\n",
    "  button4.grid(row=3, column=0)\n",
    "  button5 = Button(gui, text=' 5 ', fg='black', bg='white',\n",
    "          command=lambda: press(5), height=1, width=7)\n",
    "  button5.grid(row=3, column=1)\n",
    "  button6 = Button(gui, text=' 6 ', fg='black', bg='white',\n",
    "          command=lambda: press(6), height=1, width=7)\n",
    "  button6.grid(row=3, column=2)\n",
    "  button7 = Button(gui, text=' 1 ', fg='black', bg='white',\n",
    "          command=lambda: press(1), height=1, width=7)\n",
    "  button7.grid(row=4, column=0)\n",
    "  button8 = Button(gui, text=' 2 ', fg='black', bg='white',\n",
    "          command=lambda: press(2), height=1, width=7)\n",
    "  button8.grid(row=4, column=1)\n",
    "  button9 = Button(gui, text=' 3 ', fg='black', bg='white',\n",
    "          command=lambda: press(3), height=1, width=7)\n",
    "  button9.grid(row=4, column=2)\n",
    "  button0 = Button(gui, text=' 0 ', fg='black', bg='white',\n",
    "          command=lambda: press(0), height=1, width=7)\n",
    "   button0.grid(row=5, column=0)\n",
    "  \n",
    "\n",
    " \n",
    "  plus = Button(gui, text=' - ', fg='white', bg='black',\n",
    "        command=lambda: press(\"-\"), height=1, width=7)\n",
    "  plus.grid(row=5, column='1')\n",
    "  minus = Button(gui, text=' + ', fg='white', bg='orange',\n",
    "        command=lambda: press(\"+\"), height=1, width=7)\n",
    "  minus.grid(row=3, column=3)\n",
    "  multiply = Button(gui, text=' - ', fg='white', bg='orange',\n",
    "          command=lambda: press(\"-\"), height=1, width=7)\n",
    "  multiply.grid(row=4, column=3)\n",
    "  divide = Button(gui, text=' / ', fg='white', bg='orange',\n",
    "          command=lambda: press(\"/\"), height=1, width=7)\n",
    "  divide.grid(row=5, column=3)\n",
    "  equal = Button(gui, text=' / ', fg='white', bg='green',\n",
    "        command=equalpress, height=1, width=7)\n",
    "  equal.grid(row=5, column=2)\n",
    "    \n",
    "    \n",
    "\n",
    "  clear = Button(gui, text='C', fg='white', bg='green',\n",
    "        command=clear, height=1, width=7)\n",
    "  clear.grid(row=2, column='3')\n",
    "  #RUN\n",
    "  gui.mainloop()"
   ]
  },
  {
   "cell_type": "code",
   "execution_count": null,
   "metadata": {},
   "outputs": [],
   "source": []
  },
  {
   "cell_type": "code",
   "execution_count": null,
   "metadata": {},
   "outputs": [],
   "source": []
  }
 ],
 "metadata": {
  "kernelspec": {
   "display_name": "Python 3",
   "language": "python",
   "name": "python3"
  },
  "language_info": {
   "codemirror_mode": {
    "name": "ipython",
    "version": 3
   },
   "file_extension": ".py",
   "mimetype": "text/x-python",
   "name": "python",
   "nbconvert_exporter": "python",
   "pygments_lexer": "ipython3",
   "version": "3.7.6"
  }
 },
 "nbformat": 4,
 "nbformat_minor": 4
}
